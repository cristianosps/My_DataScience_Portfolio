{
  "nbformat": 4,
  "nbformat_minor": 0,
  "metadata": {
    "colab": {
      "name": "Analisando os Dados do Airbnb - Amsterdam - The Netherlands.ipynb",
      "provenance": [],
      "collapsed_sections": [
        "IXn2oIo5qx-w",
        "7b6RMWpuHKN-",
        "MFa5NbnLJMcd",
        "vTneAMRUYvr1",
        "GkvAg623RjoR"
      ],
      "include_colab_link": true
    },
    "kernelspec": {
      "name": "python3",
      "display_name": "Python 3"
    }
  },
  "cells": [
    {
      "cell_type": "markdown",
      "metadata": {
        "id": "view-in-github",
        "colab_type": "text"
      },
      "source": [
        "<a href=\"https://colab.research.google.com/github/cristianosps/My_DataScience_Portfolio/blob/master/Analisando%20os%20Dados%20do%20Airbnb%20-%20Amsterdam%20-%20The%20Netherlands/Analisando%20os%20Dados%20do%20Airbnb%20-%20Amsterdam%20-%20The%20Netherlands.ipynb\" target=\"_parent\"><img src=\"https://colab.research.google.com/assets/colab-badge.svg\" alt=\"Open In Colab\"/></a>"
      ]
    },
    {
      "cell_type": "markdown",
      "metadata": {
        "id": "kLI0gJtzDGuQ"
      },
      "source": [
        "---\n",
        "\n",
        "# Análise dos Dados do Airbnb - *Amsterdam, The Netherlands*\n",
        "\n",
        "O [Airbnb](https://www.airbnb.com.br/) já é considerado como sendo a **maior empresa hoteleira da atualidade**. Ah, o detalhe é que ele **não possui nenhum hotel**!\n",
        "\n",
        "Conectando pessoas que querem viajar (e se hospedar) com anfitriões que querem alugar seus imóveis de maneira prática, o Airbnb fornece uma plataforma inovadora para tornar essa hospedagem alternativa.\n",
        "\n",
        "No final de 2018, a Startup fundada no segundo semestre de 2008, já havia **hospedado mais de 300 milhões** de pessoas ao redor de todo o mundo, em aproximadamente 190 países, desafiando as redes hoteleiras tradicionais.\n",
        "\n",
        "Uma das iniciativas do Airbnb é disponibilizar dados do site, para algumas das principais cidades do mundo. Por meio do portal [Inside Airbnb](http://insideairbnb.com/get-the-data.html), é possível obter uma grande quantidade de dados para desenvolver projetos e soluções de *Data Science*.\n",
        "\n",
        "<center><img alt=\"Analisando Airbnb\" width=\"10%\" src=\"https://www.area360.com.au/wp-content/uploads/2017/09/airbnb-logo.jpg\"></center>\n",
        "\n",
        "**Neste *notebook*, iremos analisar os dados referentes à cidade de *Amsterdam, capital da Holanda*, e verificar quais insights podem ser extraídos a partir de dados brutos.**"
      ]
    },
    {
      "cell_type": "markdown",
      "metadata": {
        "id": "fv6dVCGZviu1"
      },
      "source": [
        "\n",
        "\n",
        "---\n",
        "\n"
      ]
    },
    {
      "cell_type": "markdown",
      "metadata": {
        "id": "0zxQHhIUDF_2"
      },
      "source": [
        "## Obtenção dos Dados\n",
        "\n",
        "Nesta análise referente ao serviço de hospedagens [Airbnb](https://www.airbnb.com.br/) para cidade de Amsterdam, capital da Holanda, foram utilizados dados de obtidos a partir do portal [Inside Airbnb](http://insideairbnb.com/get-the-data.html).\n",
        "\n",
        "A análise exploratória dos dados será a partir do seguinte arquivo/ dataset:\n",
        "\n",
        "\n",
        "*   `listings.csv` - *Summary information and metrics for listings in Amsterdam (good for visualisations)*. |09 September, 2020|"
      ]
    },
    {
      "cell_type": "code",
      "metadata": {
        "id": "Vhp2wMPgJ6zX"
      },
      "source": [
        "# Importar os pacotes necessarios para contrução do notebook\n",
        "\n",
        "import pandas as pd\n",
        "import matplotlib.pyplot as plt\n",
        "import seaborn as sns\n",
        "\n",
        "%matplotlib inline"
      ],
      "execution_count": 1,
      "outputs": []
    },
    {
      "cell_type": "code",
      "metadata": {
        "id": "tUmoAT8DLQ5T"
      },
      "source": [
        "# Importar o arquivo/ dataset \"listings.csv\" e carregá-lo para um DataFrame\n",
        "\n",
        "df = pd.read_csv(\"https://raw.githubusercontent.com/cristianosps/My_DataScience_Portfolio/master/Analisando%20os%20Dados%20do%20Airbnb%20-%20Amsterdam%20-%20The%20Netherlands/data/listings.csv\")"
      ],
      "execution_count": 3,
      "outputs": []
    },
    {
      "cell_type": "markdown",
      "metadata": {
        "id": "qb5By2nIMS6m"
      },
      "source": [
        "## Análise dos Dados\n",
        "\n",
        "Nesta etapa realizamos o entendimento inicial dos dados e verifivcamos como estão estruturados ao serem carregados no DataFrame."
      ]
    },
    {
      "cell_type": "markdown",
      "metadata": {
        "id": "RYgvuebKNg8-"
      },
      "source": [
        "**Dicionário das variáveis**\n",
        "\n",
        "* `id` - número de id gerado para identificar o imóvel\n",
        "* `name` - nome da propriedade anunciada\n",
        "* `host_id` - número de id do proprietário (anfitrião) da propriedade\n",
        "* `host_name` - Nome do anfitrião\n",
        "* `neighbourhood_group` - esta coluna não contém nenhum valor válido\n",
        "* `neighbourhood` - nome do bairro\n",
        "* `latitude` - coordenada da latitude da propriedade\n",
        "* `longitude` - coordenada da longitude da propriedade\n",
        "* `room_type` - informa o tipo de quarto que é oferecido\n",
        "* `price` - preço para alugar o imóvel\n",
        "* `minimum_nights` - quantidade mínima de noites para reservar\n",
        "* `number_of_reviews` - número de reviews que a propriedade possui\n",
        "* `last_review` - data do último review\n",
        "* `reviews_per_month` - quantidade de reviews por mês\n",
        "* `calculated_host_listings_count` - quantidade de imóveis do mesmo anfitrião\n",
        "* `availability_365` - número de dias de disponibilidade dentro de 365 dias"
      ]
    },
    {
      "cell_type": "markdown",
      "metadata": {
        "id": "V0VclEOP8Umt"
      },
      "source": [
        "Antes de iniciar qualquer análise, vamos verificar a cara do nosso *dataset*, analisando as 5 primeiras entradas."
      ]
    },
    {
      "cell_type": "code",
      "metadata": {
        "id": "2iS_dae7YQtO",
        "outputId": "a0caca45-bc04-4eeb-bfb6-ac8bd6deb6c1",
        "colab": {
          "base_uri": "https://localhost:8080/",
          "height": 513
        }
      },
      "source": [
        "# Apresentar as 5 primeiras entradas do dataset\n",
        "\n",
        "df.head()"
      ],
      "execution_count": 6,
      "outputs": [
        {
          "output_type": "execute_result",
          "data": {
            "text/html": [
              "<div>\n",
              "<style scoped>\n",
              "    .dataframe tbody tr th:only-of-type {\n",
              "        vertical-align: middle;\n",
              "    }\n",
              "\n",
              "    .dataframe tbody tr th {\n",
              "        vertical-align: top;\n",
              "    }\n",
              "\n",
              "    .dataframe thead th {\n",
              "        text-align: right;\n",
              "    }\n",
              "</style>\n",
              "<table border=\"1\" class=\"dataframe\">\n",
              "  <thead>\n",
              "    <tr style=\"text-align: right;\">\n",
              "      <th></th>\n",
              "      <th>id</th>\n",
              "      <th>name</th>\n",
              "      <th>host_id</th>\n",
              "      <th>host_name</th>\n",
              "      <th>neighbourhood_group</th>\n",
              "      <th>neighbourhood</th>\n",
              "      <th>latitude</th>\n",
              "      <th>longitude</th>\n",
              "      <th>room_type</th>\n",
              "      <th>price</th>\n",
              "      <th>minimum_nights</th>\n",
              "      <th>number_of_reviews</th>\n",
              "      <th>last_review</th>\n",
              "      <th>reviews_per_month</th>\n",
              "      <th>calculated_host_listings_count</th>\n",
              "      <th>availability_365</th>\n",
              "    </tr>\n",
              "  </thead>\n",
              "  <tbody>\n",
              "    <tr>\n",
              "      <th>0</th>\n",
              "      <td>2818</td>\n",
              "      <td>Quiet Garden View Room &amp; Super Fast WiFi</td>\n",
              "      <td>3159</td>\n",
              "      <td>Daniel</td>\n",
              "      <td>NaN</td>\n",
              "      <td>Oostelijk Havengebied - Indische Buurt</td>\n",
              "      <td>52.36575</td>\n",
              "      <td>4.94142</td>\n",
              "      <td>Private room</td>\n",
              "      <td>59</td>\n",
              "      <td>3</td>\n",
              "      <td>278</td>\n",
              "      <td>2020-02-14</td>\n",
              "      <td>1.99</td>\n",
              "      <td>1</td>\n",
              "      <td>125</td>\n",
              "    </tr>\n",
              "    <tr>\n",
              "      <th>1</th>\n",
              "      <td>20168</td>\n",
              "      <td>Studio with private bathroom in the centre 1</td>\n",
              "      <td>59484</td>\n",
              "      <td>Alexander</td>\n",
              "      <td>NaN</td>\n",
              "      <td>Centrum-Oost</td>\n",
              "      <td>52.36509</td>\n",
              "      <td>4.89354</td>\n",
              "      <td>Private room</td>\n",
              "      <td>216</td>\n",
              "      <td>1</td>\n",
              "      <td>340</td>\n",
              "      <td>2020-04-09</td>\n",
              "      <td>2.65</td>\n",
              "      <td>3</td>\n",
              "      <td>3</td>\n",
              "    </tr>\n",
              "    <tr>\n",
              "      <th>2</th>\n",
              "      <td>25428</td>\n",
              "      <td>Lovely apt in City Centre (w.lift) near Jordaan</td>\n",
              "      <td>56142</td>\n",
              "      <td>Joan</td>\n",
              "      <td>NaN</td>\n",
              "      <td>Centrum-West</td>\n",
              "      <td>52.37297</td>\n",
              "      <td>4.88339</td>\n",
              "      <td>Entire home/apt</td>\n",
              "      <td>125</td>\n",
              "      <td>14</td>\n",
              "      <td>5</td>\n",
              "      <td>2020-02-09</td>\n",
              "      <td>0.16</td>\n",
              "      <td>1</td>\n",
              "      <td>47</td>\n",
              "    </tr>\n",
              "    <tr>\n",
              "      <th>3</th>\n",
              "      <td>27886</td>\n",
              "      <td>Romantic, stylish B&amp;B houseboat in canal district</td>\n",
              "      <td>97647</td>\n",
              "      <td>Flip</td>\n",
              "      <td>NaN</td>\n",
              "      <td>Centrum-West</td>\n",
              "      <td>52.38761</td>\n",
              "      <td>4.89188</td>\n",
              "      <td>Private room</td>\n",
              "      <td>141</td>\n",
              "      <td>2</td>\n",
              "      <td>219</td>\n",
              "      <td>2020-07-25</td>\n",
              "      <td>2.07</td>\n",
              "      <td>1</td>\n",
              "      <td>188</td>\n",
              "    </tr>\n",
              "    <tr>\n",
              "      <th>4</th>\n",
              "      <td>28871</td>\n",
              "      <td>Comfortable double room</td>\n",
              "      <td>124245</td>\n",
              "      <td>Edwin</td>\n",
              "      <td>NaN</td>\n",
              "      <td>Centrum-West</td>\n",
              "      <td>52.36719</td>\n",
              "      <td>4.89092</td>\n",
              "      <td>Private room</td>\n",
              "      <td>75</td>\n",
              "      <td>2</td>\n",
              "      <td>334</td>\n",
              "      <td>2020-08-16</td>\n",
              "      <td>2.73</td>\n",
              "      <td>2</td>\n",
              "      <td>340</td>\n",
              "    </tr>\n",
              "  </tbody>\n",
              "</table>\n",
              "</div>"
            ],
            "text/plain": [
              "      id  ... availability_365\n",
              "0   2818  ...              125\n",
              "1  20168  ...                3\n",
              "2  25428  ...               47\n",
              "3  27886  ...              188\n",
              "4  28871  ...              340\n",
              "\n",
              "[5 rows x 16 columns]"
            ]
          },
          "metadata": {
            "tags": []
          },
          "execution_count": 6
        }
      ]
    },
    {
      "cell_type": "markdown",
      "metadata": {
        "id": "6-B_qtEaYEd-"
      },
      "source": [
        "### **Q1. Quantos atributos (variáveis) e quantas entradas o nosso conjunto de dados possui? Quais os tipos das variáveis?**"
      ]
    },
    {
      "cell_type": "code",
      "metadata": {
        "id": "TFRK0tniLV-G",
        "outputId": "7053d884-e24b-4efd-85aa-c87ee15e6796",
        "colab": {
          "base_uri": "https://localhost:8080/",
          "height": 357
        }
      },
      "source": [
        "# Identificar o volume de dados do DataFrame\n",
        "print(\"Entradas (Linhas):\\t {}\".format(df.shape[0]))\n",
        "print(\"Variáveis: (Colunas):\\t {}\\n\".format(df.shape[1]))\n",
        "\n",
        "# Identificar os tipos de dado das variáveis do DataFrame\n",
        "display(df.dtypes)"
      ],
      "execution_count": 23,
      "outputs": [
        {
          "output_type": "stream",
          "text": [
            "Entradas (Linhas):\t 18905\n",
            "Variáveis: (Colunas)\t 16\n",
            "\n"
          ],
          "name": "stdout"
        },
        {
          "output_type": "display_data",
          "data": {
            "text/plain": [
              "id                                  int64\n",
              "name                               object\n",
              "host_id                             int64\n",
              "host_name                          object\n",
              "neighbourhood_group               float64\n",
              "neighbourhood                      object\n",
              "latitude                          float64\n",
              "longitude                         float64\n",
              "room_type                          object\n",
              "price                               int64\n",
              "minimum_nights                      int64\n",
              "number_of_reviews                   int64\n",
              "last_review                        object\n",
              "reviews_per_month                 float64\n",
              "calculated_host_listings_count      int64\n",
              "availability_365                    int64\n",
              "dtype: object"
            ]
          },
          "metadata": {
            "tags": []
          }
        }
      ]
    },
    {
      "cell_type": "markdown",
      "metadata": {
        "id": "yz1urSUGW9iE"
      },
      "source": [
        "### **Q2. Qual a porcentagem de valores ausentes no *dataset*?**"
      ]
    },
    {
      "cell_type": "code",
      "metadata": {
        "id": "plk2FjbCXOqP",
        "outputId": "29f5dbc2-e9fa-4d02-8a68-1b5d84ef2bd8",
        "colab": {
          "base_uri": "https://localhost:8080/",
          "height": 306
        }
      },
      "source": [
        "# Ordenar em ordem decrescente as variáveis por seus valores ausentes\n",
        "(df.isnull().sum()/ df.shape[0]).sort_values(ascending=False)"
      ],
      "execution_count": 27,
      "outputs": [
        {
          "output_type": "execute_result",
          "data": {
            "text/plain": [
              "neighbourhood_group               1.000000\n",
              "reviews_per_month                 0.120444\n",
              "last_review                       0.120444\n",
              "host_name                         0.002962\n",
              "name                              0.001746\n",
              "availability_365                  0.000000\n",
              "calculated_host_listings_count    0.000000\n",
              "number_of_reviews                 0.000000\n",
              "minimum_nights                    0.000000\n",
              "price                             0.000000\n",
              "room_type                         0.000000\n",
              "longitude                         0.000000\n",
              "latitude                          0.000000\n",
              "neighbourhood                     0.000000\n",
              "host_id                           0.000000\n",
              "id                                0.000000\n",
              "dtype: float64"
            ]
          },
          "metadata": {
            "tags": []
          },
          "execution_count": 27
        }
      ]
    },
    {
      "cell_type": "markdown",
      "metadata": {
        "id": "iHXvvHIxaoNc"
      },
      "source": [
        "### **Q3. Qual o tipo de distribuição das variáveis?** "
      ]
    },
    {
      "cell_type": "code",
      "metadata": {
        "id": "q2wWSfeRbmBo",
        "outputId": "09165d8f-44f8-49c2-fbac-9bbe62ff85f1",
        "colab": {
          "base_uri": "https://localhost:8080/",
          "height": 607
        }
      },
      "source": [
        "# Plotar o histograma das variáveis numéricas\n",
        "df.hist(bins=20, figsize=(20,10));"
      ],
      "execution_count": 35,
      "outputs": [
        {
          "output_type": "display_data",
          "data": {
            "image/png": "[encoded data removed]",
            "text/plain": [
              "<Figure size 1440x720 with 12 Axes>"
            ]
          },
          "metadata": {
            "tags": [],
            "needs_background": "light"
          }
        }
      ]
    },
    {
      "cell_type": "markdown",
      "metadata": {
        "id": "7x4aw1j5wNmn"
      },
      "source": [
        "### **Q4. Qual a média dos preços de aluguel?**"
      ]
    },
    {
      "cell_type": "code",
      "metadata": {
        "id": "ff-8gUahLk-C"
      },
      "source": [
        "# ver a média da coluna `price``\n"
      ],
      "execution_count": null,
      "outputs": []
    },
    {
      "cell_type": "markdown",
      "metadata": {
        "id": "IXn2oIo5qx-w"
      },
      "source": [
        "### **Q4. Qual a correlação existente entre as variáveis**"
      ]
    },
    {
      "cell_type": "code",
      "metadata": {
        "id": "x2ayzBajqxyd"
      },
      "source": [
        "# criar uma matriz de correlação\n",
        "\n",
        "# mostrar a matriz de correlação\n"
      ],
      "execution_count": null,
      "outputs": []
    },
    {
      "cell_type": "code",
      "metadata": {
        "id": "91UujDr6ueqE"
      },
      "source": [
        "# plotar um heatmap a partir das correlações\n"
      ],
      "execution_count": null,
      "outputs": []
    },
    {
      "cell_type": "markdown",
      "metadata": {
        "id": "7b6RMWpuHKN-"
      },
      "source": [
        "### **Q5. Qual o tipo de imóvel mais alugado no Airbnb?**"
      ]
    },
    {
      "cell_type": "code",
      "metadata": {
        "id": "ueLPNWvPHgfB"
      },
      "source": [
        "# mostrar a quantidade de cada tipo de imóvel disponível\n"
      ],
      "execution_count": null,
      "outputs": []
    },
    {
      "cell_type": "code",
      "metadata": {
        "id": "EvwoO-XAHhIm"
      },
      "source": [
        "# mostrar a porcentagem de cada tipo de imóvel disponível\n"
      ],
      "execution_count": null,
      "outputs": []
    },
    {
      "cell_type": "markdown",
      "metadata": {
        "id": "MFa5NbnLJMcd"
      },
      "source": [
        "### **Q6. Qual a localidade mais cara do dataset?**\n",
        "\n"
      ]
    },
    {
      "cell_type": "code",
      "metadata": {
        "id": "MD_xa143JZpi"
      },
      "source": [
        "# ver preços por bairros, na média\n"
      ],
      "execution_count": null,
      "outputs": []
    },
    {
      "cell_type": "code",
      "metadata": {
        "id": "UxVJqJ_3W59I"
      },
      "source": [
        "# plotar os imóveis pela latitude-longitude\n"
      ],
      "execution_count": null,
      "outputs": []
    },
    {
      "cell_type": "markdown",
      "metadata": {
        "id": "vTneAMRUYvr1"
      },
      "source": [
        "### **Q7. Qual é a média do mínimo de noites para aluguel (minimum_nights)?**"
      ]
    },
    {
      "cell_type": "code",
      "metadata": {
        "id": "_VzNhrEgY82N"
      },
      "source": [
        "# ver a média da coluna `minimum_nights``"
      ],
      "execution_count": null,
      "outputs": []
    },
    {
      "cell_type": "markdown",
      "metadata": {
        "id": "GkvAg623RjoR"
      },
      "source": [
        "## Conclusões\n"
      ]
    },
    {
      "cell_type": "markdown",
      "metadata": {
        "id": "rbZ3Hsy9Ypw8"
      },
      "source": [
        ""
      ]
    }
  ]
}